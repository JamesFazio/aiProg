{
 "cells": [
  {
   "cell_type": "code",
   "execution_count": 1,
   "metadata": {},
   "outputs": [
    {
     "name": "stdout",
     "output_type": "stream",
     "text": [
      "1 Physical GPUs, 1 Logical GPUs\n"
     ]
    }
   ],
   "source": [
    "import os\n",
    "import numpy as np\n",
    "import tensorflow as tf\n",
    "import matplotlib.pyplot as plt\n",
    "from sklearn.model_selection import train_test_split\n",
    "\n",
    "from tensorflow.keras.layers import Conv2D, Dense, MaxPool2D, Dropout, BatchNormalization, Flatten, Input\n",
    "from tensorflow.keras.metrics import Precision, Recall\n",
    "\n",
    "gpus = tf.config.experimental.list_physical_devices('GPU')\n",
    "if gpus:\n",
    "  try:\n",
    "    for gpu in gpus:\n",
    "      tf.config.experimental.set_memory_growth(gpu, True)\n",
    "    logical_gpus = tf.config.experimental.list_logical_devices('GPU')\n",
    "    print(len(gpus), \"Physical GPUs,\", len(logical_gpus), \"Logical GPUs\")\n",
    "  except RuntimeError as e:\n",
    "    print(e)\n"
   ]
  },
  {
   "cell_type": "code",
   "execution_count": 2,
   "metadata": {},
   "outputs": [],
   "source": [
    "folders = tf.io.gfile.glob(str('data/train/*/*'))\n",
    "folders.extend(tf.io.gfile.glob(str('data/val/*/*')))\n",
    "train, validate = train_test_split(folders, test_size=0.2)\n",
    "train_data = tf.data.Dataset.from_tensor_slices(train)\n",
    "val_data = tf.data.Dataset.from_tensor_slices(validate)"
   ]
  },
  {
   "cell_type": "code",
   "execution_count": 3,
   "metadata": {},
   "outputs": [],
   "source": [
    "DIMENSIONS = [256, 256]\n",
    "\n",
    "FOLDERNAME = np.array([str(tf.strings.split(item, os.path.sep)[-1].numpy())[2:-1]\n",
    "                        for item in tf.io.gfile.glob(str('data/train/*'))]) \n",
    "FOLDERNAME\n",
    "\n",
    "def get_name(path):\n",
    "    arr = tf.strings.split(path, os.path.sep)\n",
    "    return arr[-2] == \"opacity\"\n",
    "def convert_img(image):\n",
    "    image = tf.image.decode_jpeg(image, channels=3)\n",
    "    image = tf.image.convert_image_dtype(image, tf.float64)\n",
    "    return tf.image.resize(image, DIMENSIONS)\n",
    "def access(file):\n",
    "    label = get_name(file)\n",
    "    image = tf.io.read_file(file)\n",
    "    image = convert_img(image)\n",
    "    return image, label"
   ]
  },
  {
   "cell_type": "code",
   "execution_count": 4,
   "metadata": {},
   "outputs": [],
   "source": [
    "NORMAL = len([f for f in train if \"normal\" in f])\n",
    "PNEUMONIA = len([f for f in train if \"opacity\" in f])\n",
    "TOTAL_TRAINING = (NORMAL + PNEUMONIA)"
   ]
  },
  {
   "cell_type": "code",
   "execution_count": 5,
   "metadata": {},
   "outputs": [
    {
     "data": {
      "text/plain": [
       "624"
      ]
     },
     "execution_count": 5,
     "metadata": {},
     "output_type": "execute_result"
    }
   ],
   "source": [
    "AUTOTUNE = tf.data.experimental.AUTOTUNE\n",
    "BATCH_SIZE = 32\n",
    "train = train_data.map(access, num_parallel_calls=AUTOTUNE)\n",
    "val = val_data.map(access, num_parallel_calls=AUTOTUNE)\n",
    "\n",
    "testdata = tf.data.Dataset.list_files(str('data/test/*/*'))\n",
    "TESTING_NUM = tf.data.experimental.cardinality(testdata).numpy()\n",
    "test_data = testdata.map(access, num_parallel_calls=AUTOTUNE)\n",
    "test_data = test_data.batch(BATCH_SIZE)\n",
    "TESTING_NUM"
   ]
  },
  {
   "cell_type": "code",
   "execution_count": 6,
   "metadata": {},
   "outputs": [],
   "source": [
    "def pref(set):\n",
    "    set = set.repeat()\n",
    "    set = set.batch(BATCH_SIZE)\n",
    "    set = set.prefetch(buffer_size=AUTOTUNE)\n",
    "    return set\n",
    "\n",
    "train = pref(train)\n",
    "val = pref(val)\n",
    "image, label = next(iter(train))"
   ]
  },
  {
   "cell_type": "code",
   "execution_count": 7,
   "metadata": {},
   "outputs": [],
   "source": [
    "def build_model():\n",
    "    model = tf.keras.Sequential([\n",
    "        Input(shape=(DIMENSIONS, DIMENSIONS, 3)),\n",
    "        Conv2D(32, (3,3), padding='same', activation='relu'),\n",
    "        Conv2D(32, (3,3), padding='same', activation='relu'),\n",
    "        BatchNormalization(),\n",
    "        MaxPool2D(),\n",
    "        Conv2D(64, (3,3), padding='same', activation='relu'),\n",
    "        Conv2D(64, (3,3), padding='same', activation='relu'),\n",
    "        BatchNormalization(),\n",
    "        MaxPool2D(),\n",
    "        Flatten(),\n",
    "        Dense(512, activation='relu'),\n",
    "        BatchNormalization(),\n",
    "        Dense(128, activation='relu'),\n",
    "        BatchNormalization(),\n",
    "        Dense(64, activation='relu'),\n",
    "        BatchNormalization(),\n",
    "        Dropout(0.5),\n",
    "        Dense(1, activation='sigmoid')\n",
    "    ])\n",
    "    return model"
   ]
  },
  {
   "cell_type": "code",
   "execution_count": 8,
   "metadata": {},
   "outputs": [],
   "source": [
    "strategy = tf.distribute.get_strategy()\n",
    "with strategy.scope():\n",
    "    model = build_model()\n",
    "    model.compile(\n",
    "        optimizer='adam',\n",
    "        loss='binary_crossentropy',\n",
    "        metrics=['accuracy', Precision(name='precision'), Recall(name='recall')]\n",
    "    )"
   ]
  },
  {
   "cell_type": "code",
   "execution_count": 9,
   "metadata": {},
   "outputs": [
    {
     "name": "stdout",
     "output_type": "stream",
     "text": [
      "Epoch 1/80\n",
      "128/128 [==============================] - 155s 945ms/step - loss: 0.2482 - accuracy: 0.9097 - precision: 0.9668 - recall: 0.9108 - val_loss: 1.1623 - val_accuracy: 0.7219 - val_precision: 0.7226 - val_recall: 0.9986\n",
      "Epoch 2/80\n",
      "128/128 [==============================] - 9s 73ms/step - loss: 0.1367 - accuracy: 0.9546 - precision: 0.9722 - recall: 0.9671 - val_loss: 0.7803 - val_accuracy: 0.7058 - val_precision: 0.7177 - val_recall: 0.9770\n",
      "Epoch 3/80\n",
      "128/128 [==============================] - 9s 72ms/step - loss: 0.1099 - accuracy: 0.9666 - precision: 0.9776 - recall: 0.9779 - val_loss: 6.0178 - val_accuracy: 0.2793 - val_precision: 1.0000 - val_recall: 0.0027\n",
      "Epoch 4/80\n",
      "128/128 [==============================] - 9s 72ms/step - loss: 0.1030 - accuracy: 0.9644 - precision: 0.9753 - recall: 0.9773 - val_loss: 0.0809 - val_accuracy: 0.9639 - val_precision: 0.9769 - val_recall: 0.9730\n",
      "Epoch 5/80\n",
      "128/128 [==============================] - 9s 73ms/step - loss: 0.0664 - accuracy: 0.9795 - precision: 0.9854 - recall: 0.9873 - val_loss: 0.0945 - val_accuracy: 0.9629 - val_precision: 0.9643 - val_recall: 0.9851\n",
      "Epoch 6/80\n",
      "128/128 [==============================] - 9s 74ms/step - loss: 0.0654 - accuracy: 0.9814 - precision: 0.9870 - recall: 0.9883 - val_loss: 0.2691 - val_accuracy: 0.9375 - val_precision: 0.9971 - val_recall: 0.9162\n",
      "Epoch 7/80\n",
      "128/128 [==============================] - 9s 73ms/step - loss: 0.0510 - accuracy: 0.9844 - precision: 0.9889 - recall: 0.9902 - val_loss: 0.0978 - val_accuracy: 0.9688 - val_precision: 0.9758 - val_recall: 0.9811\n",
      "Epoch 8/80\n",
      "128/128 [==============================] - 9s 73ms/step - loss: 0.0270 - accuracy: 0.9912 - precision: 0.9929 - recall: 0.9954 - val_loss: 0.1209 - val_accuracy: 0.9709 - val_precision: 0.9931 - val_recall: 0.9666\n",
      "Epoch 9/80\n",
      "128/128 [==============================] - 10s 76ms/step - loss: 0.0272 - accuracy: 0.9895 - precision: 0.9919 - recall: 0.9942 - val_loss: 0.1111 - val_accuracy: 0.9727 - val_precision: 0.9850 - val_recall: 0.9770\n",
      "Epoch 10/80\n",
      "128/128 [==============================] - 10s 79ms/step - loss: 0.0241 - accuracy: 0.9932 - precision: 0.9954 - recall: 0.9954 - val_loss: 0.2544 - val_accuracy: 0.9287 - val_precision: 0.9122 - val_recall: 0.9973\n",
      "Epoch 11/80\n",
      "128/128 [==============================] - 10s 78ms/step - loss: 0.0295 - accuracy: 0.9917 - precision: 0.9948 - recall: 0.9942 - val_loss: 0.0714 - val_accuracy: 0.9736 - val_precision: 0.9824 - val_recall: 0.9811\n",
      "Epoch 12/80\n",
      "128/128 [==============================] - 10s 78ms/step - loss: 0.0152 - accuracy: 0.9966 - precision: 0.9977 - recall: 0.9977 - val_loss: 0.0954 - val_accuracy: 0.9739 - val_precision: 0.9904 - val_recall: 0.9733\n",
      "Epoch 13/80\n",
      "128/128 [==============================] - 10s 77ms/step - loss: 0.0109 - accuracy: 0.9958 - precision: 0.9974 - recall: 0.9971 - val_loss: 0.2167 - val_accuracy: 0.9419 - val_precision: 0.9341 - val_recall: 0.9895\n",
      "Epoch 14/80\n",
      "128/128 [==============================] - 10s 78ms/step - loss: 0.0250 - accuracy: 0.9929 - precision: 0.9951 - recall: 0.9955 - val_loss: 0.1461 - val_accuracy: 0.9543 - val_precision: 0.9667 - val_recall: 0.9703\n",
      "Epoch 15/80\n",
      "128/128 [==============================] - 10s 75ms/step - loss: 0.0222 - accuracy: 0.9915 - precision: 0.9951 - recall: 0.9935 - val_loss: 0.2904 - val_accuracy: 0.9211 - val_precision: 0.9076 - val_recall: 0.9919\n",
      "Epoch 16/80\n",
      "128/128 [==============================] - 10s 75ms/step - loss: 0.0142 - accuracy: 0.9958 - precision: 0.9968 - recall: 0.9977 - val_loss: 0.3141 - val_accuracy: 0.9436 - val_precision: 0.9956 - val_recall: 0.9260\n",
      "Epoch 17/80\n",
      "128/128 [==============================] - 10s 77ms/step - loss: 0.0125 - accuracy: 0.9951 - precision: 0.9971 - recall: 0.9964 - val_loss: 0.4750 - val_accuracy: 0.8882 - val_precision: 0.8670 - val_recall: 0.9987\n",
      "Epoch 18/80\n",
      "128/128 [==============================] - 10s 76ms/step - loss: 0.0139 - accuracy: 0.9956 - precision: 0.9974 - recall: 0.9968 - val_loss: 0.1152 - val_accuracy: 0.9688 - val_precision: 0.9708 - val_recall: 0.9865\n"
     ]
    }
   ],
   "source": [
    "EPOCHS = 80\n",
    "early_stop_callback = tf.keras.callbacks.EarlyStopping(monitor='loss', patience=5)\n",
    "callbacks = [early_stop_callback]\n",
    "\n",
    "STEPS = TOTAL_TRAINING // BATCH_SIZE\n",
    "anomalyTraining = model.fit(\n",
    "    train,\n",
    "    steps_per_epoch = STEPS,\n",
    "    epochs=EPOCHS,\n",
    "    validation_data = val,\n",
    "    validation_steps = STEPS,\n",
    "    callbacks=callbacks\n",
    ")\n",
    "model.save('model.h5')"
   ]
  },
  {
   "cell_type": "code",
   "execution_count": 10,
   "metadata": {},
   "outputs": [
    {
     "name": "stdout",
     "output_type": "stream",
     "text": [
      "Model: \"sequential\"\n",
      "_________________________________________________________________\n",
      " Layer (type)                Output Shape              Param #   \n",
      "=================================================================\n",
      " conv2d (Conv2D)             (None, 256, 256, 32)      896       \n",
      "                                                                 \n",
      " conv2d_1 (Conv2D)           (None, 256, 256, 32)      9248      \n",
      "                                                                 \n",
      " batch_normalization (BatchN  (None, 256, 256, 32)     128       \n",
      " ormalization)                                                   \n",
      "                                                                 \n",
      " max_pooling2d (MaxPooling2D  (None, 128, 128, 32)     0         \n",
      " )                                                               \n",
      "                                                                 \n",
      " conv2d_2 (Conv2D)           (None, 128, 128, 64)      18496     \n",
      "                                                                 \n",
      " conv2d_3 (Conv2D)           (None, 128, 128, 64)      36928     \n",
      "                                                                 \n",
      " batch_normalization_1 (Batc  (None, 128, 128, 64)     256       \n",
      " hNormalization)                                                 \n",
      "                                                                 \n",
      " max_pooling2d_1 (MaxPooling  (None, 64, 64, 64)       0         \n",
      " 2D)                                                             \n",
      "                                                                 \n",
      " flatten (Flatten)           (None, 262144)            0         \n",
      "                                                                 \n",
      " dense (Dense)               (None, 512)               134218240 \n",
      "                                                                 \n",
      " batch_normalization_2 (Batc  (None, 512)              2048      \n",
      " hNormalization)                                                 \n",
      "                                                                 \n",
      " dense_1 (Dense)             (None, 128)               65664     \n",
      "                                                                 \n",
      " batch_normalization_3 (Batc  (None, 128)              512       \n",
      " hNormalization)                                                 \n",
      "                                                                 \n",
      " dense_2 (Dense)             (None, 64)                8256      \n",
      "                                                                 \n",
      " batch_normalization_4 (Batc  (None, 64)               256       \n",
      " hNormalization)                                                 \n",
      "                                                                 \n",
      " dropout (Dropout)           (None, 64)                0         \n",
      "                                                                 \n",
      " dense_3 (Dense)             (None, 1)                 65        \n",
      "                                                                 \n",
      "=================================================================\n",
      "Total params: 134,360,993\n",
      "Trainable params: 134,359,393\n",
      "Non-trainable params: 1,600\n",
      "_________________________________________________________________\n"
     ]
    }
   ],
   "source": [
    "model.summary()"
   ]
  },
  {
   "cell_type": "code",
   "execution_count": 11,
   "metadata": {},
   "outputs": [
    {
     "name": "stdout",
     "output_type": "stream",
     "text": [
      "20/20 [==============================] - 21s 997ms/step - loss: 1.6823 - accuracy: 0.7228 - precision: 0.6934 - recall: 0.9974\n"
     ]
    }
   ],
   "source": [
    "loss, acc, prec, rec = model.evaluate(test_data)"
   ]
  },
  {
   "cell_type": "code",
   "execution_count": 12,
   "metadata": {},
   "outputs": [
    {
     "data": {
      "image/png": "[encoded data removed]",
      "text/plain": [
       "<Figure size 432x288 with 1 Axes>"
      ]
     },
     "metadata": {
      "needs_background": "light"
     },
     "output_type": "display_data"
    }
   ],
   "source": [
    "plt.plot(anomalyTraining.history['accuracy'], \"green\")\n",
    "plt.plot(anomalyTraining.history['val_accuracy'], \"red\")\n",
    "plt.title('Accuracy during training')\n",
    "plt.ylabel('Accuracy')\n",
    "plt.xlabel('Epoch')\n",
    "plt.legend(['Train', 'Validation'], loc = 'lower center')\n",
    "plt.show()"
   ]
  },
  {
   "cell_type": "code",
   "execution_count": 13,
   "metadata": {},
   "outputs": [
    {
     "data": {
      "image/png": "[encoded data removed]",
      "text/plain": [
       "<Figure size 432x288 with 1 Axes>"
      ]
     },
     "metadata": {
      "needs_background": "light"
     },
     "output_type": "display_data"
    }
   ],
   "source": [
    "plt.plot(anomalyTraining.history['loss'], \"green\")\n",
    "plt.plot(anomalyTraining.history['val_loss'], \"red\")\n",
    "plt.title('Loss during training')\n",
    "plt.ylabel('Loss')\n",
    "plt.xlabel('Epoch')\n",
    "plt.legend(['Train', 'Validation'], loc = 'upper center')\n",
    "plt.show()"
   ]
  },
  {
   "cell_type": "code",
   "execution_count": 14,
   "metadata": {},
   "outputs": [
    {
     "data": {
      "image/png": "[encoded data removed]",
      "text/plain": [
       "<Figure size 432x288 with 1 Axes>"
      ]
     },
     "metadata": {
      "needs_background": "light"
     },
     "output_type": "display_data"
    }
   ],
   "source": [
    "plt.plot(anomalyTraining.history['recall'], \"green\")\n",
    "plt.plot(anomalyTraining.history['val_recall'], \"red\")\n",
    "plt.title('Recall during training')\n",
    "plt.ylabel('Recall')\n",
    "plt.xlabel('Epoch')\n",
    "plt.legend(['Train', 'Validation'], loc = 'lower left')\n",
    "plt.show()"
   ]
  },
  {
   "cell_type": "code",
   "execution_count": 15,
   "metadata": {},
   "outputs": [
    {
     "data": {
      "image/png": "[encoded data removed]",
      "text/plain": [
       "<Figure size 432x288 with 1 Axes>"
      ]
     },
     "metadata": {
      "needs_background": "light"
     },
     "output_type": "display_data"
    }
   ],
   "source": [
    "plt.plot(anomalyTraining.history['precision'], \"green\")\n",
    "plt.plot(anomalyTraining.history['val_precision'], \"red\")\n",
    "plt.title('Precision during training')\n",
    "plt.ylabel('Precision')\n",
    "plt.xlabel('Epoch')\n",
    "plt.legend(['Train', 'Validation'], loc = 'lower center')\n",
    "plt.show()"
   ]
  }
 ],
 "metadata": {
  "interpreter": {
   "hash": "c700cc546fdf9d75b20a76139db37289074b9aa057030972da8bacd8c8bf116d"
  },
  "kernelspec": {
   "display_name": "Python 3.8.8 64-bit ('base': conda)",
   "language": "python",
   "name": "python3"
  },
  "language_info": {
   "codemirror_mode": {
    "name": "ipython",
    "version": 3
   },
   "file_extension": ".py",
   "mimetype": "text/x-python",
   "name": "python",
   "nbconvert_exporter": "python",
   "pygments_lexer": "ipython3",
   "version": "3.8.10"
  },
  "orig_nbformat": 4
 },
 "nbformat": 4,
 "nbformat_minor": 2
}
